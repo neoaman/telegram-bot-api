{
 "cells": [
  {
   "cell_type": "code",
   "execution_count": 4,
   "metadata": {},
   "outputs": [
    {
     "data": {
      "text/plain": [
       "True"
      ]
     },
     "execution_count": 4,
     "metadata": {},
     "output_type": "execute_result"
    }
   ],
   "source": [
    "import google.generativeai as genai\n",
    "from PIL import Image as IM\n",
    "from dotenv import load_dotenv\n",
    "import os\n",
    "load_dotenv()"
   ]
  },
  {
   "cell_type": "code",
   "execution_count": 16,
   "metadata": {},
   "outputs": [],
   "source": [
    "genai.configure(api_key=os.environ[\"GOOGLE_GEMINI_API\"])\n",
    "model_vision = genai.GenerativeModel('gemini-pro-vision')\n",
    "model_text = genai.GenerativeModel('gemini-pro')\n"
   ]
  },
  {
   "cell_type": "code",
   "execution_count": 15,
   "metadata": {},
   "outputs": [
    {
     "name": "stdout",
     "output_type": "stream",
     "text": [
      " This is a photo of a family. There are three men, two women, and one child. The men are all wearing casual clothes. The women are wearing traditional Indian clothes. The child is wearing a red shirt and blue jeans. The family is standing on a beach. There are boats in the water behind them.\n"
     ]
    }
   ],
   "source": [
    "filename = \"../file_10.jpg\"\n",
    "image = IM.open(filename)\n",
    "response = model_vision.generate_content([\"wat in this image\",image])\n",
    "print(response.text)"
   ]
  },
  {
   "cell_type": "code",
   "execution_count": 20,
   "metadata": {},
   "outputs": [
    {
     "ename": "TypeError",
     "evalue": "Could not create `Blob`, expected `Blob`, `dict` or an `Image` type(`PIL.Image.Image` or `IPython.display.Image`).\nGot a: <class 'NoneType'>\nValue: None",
     "output_type": "error",
     "traceback": [
      "\u001b[0;31m---------------------------------------------------------------------------\u001b[0m",
      "\u001b[0;31mTypeError\u001b[0m                                 Traceback (most recent call last)",
      "Cell \u001b[0;32mIn[20], line 1\u001b[0m\n\u001b[0;32m----> 1\u001b[0m response \u001b[39m=\u001b[39m model_text\u001b[39m.\u001b[39;49mgenerate_content([\u001b[39m\"\u001b[39;49m\u001b[39mwat in this image, dont lie if you cant see image\u001b[39;49m\u001b[39m\"\u001b[39;49m,\u001b[39mNone\u001b[39;49;00m])\n\u001b[1;32m      2\u001b[0m \u001b[39mprint\u001b[39m(response\u001b[39m.\u001b[39mtext)\n",
      "File \u001b[0;32m~/project/telegram-bot-api/.venv/lib/python3.11/site-packages/google/generativeai/generative_models.py:212\u001b[0m, in \u001b[0;36mGenerativeModel.generate_content\u001b[0;34m(self, contents, generation_config, safety_settings, stream, tools, request_options)\u001b[0m\n\u001b[1;32m    148\u001b[0m \u001b[39mdef\u001b[39;00m \u001b[39mgenerate_content\u001b[39m(\n\u001b[1;32m    149\u001b[0m     \u001b[39mself\u001b[39m,\n\u001b[1;32m    150\u001b[0m     contents: content_types\u001b[39m.\u001b[39mContentsType,\n\u001b[0;32m   (...)\u001b[0m\n\u001b[1;32m    156\u001b[0m     request_options: \u001b[39mdict\u001b[39m[\u001b[39mstr\u001b[39m, Any] \u001b[39m|\u001b[39m \u001b[39mNone\u001b[39;00m \u001b[39m=\u001b[39m \u001b[39mNone\u001b[39;00m,\n\u001b[1;32m    157\u001b[0m ) \u001b[39m-\u001b[39m\u001b[39m>\u001b[39m generation_types\u001b[39m.\u001b[39mGenerateContentResponse:\n\u001b[1;32m    158\u001b[0m \u001b[39m    \u001b[39m\u001b[39m\"\"\"A multipurpose function to generate responses from the model.\u001b[39;00m\n\u001b[1;32m    159\u001b[0m \n\u001b[1;32m    160\u001b[0m \u001b[39m    This `GenerativeModel.generate_content` method can handle multimodal input, and multi-turn\u001b[39;00m\n\u001b[0;32m   (...)\u001b[0m\n\u001b[1;32m    210\u001b[0m \u001b[39m        request_options: Options for the request.\u001b[39;00m\n\u001b[1;32m    211\u001b[0m \u001b[39m    \"\"\"\u001b[39;00m\n\u001b[0;32m--> 212\u001b[0m     request \u001b[39m=\u001b[39m \u001b[39mself\u001b[39;49m\u001b[39m.\u001b[39;49m_prepare_request(\n\u001b[1;32m    213\u001b[0m         contents\u001b[39m=\u001b[39;49mcontents,\n\u001b[1;32m    214\u001b[0m         generation_config\u001b[39m=\u001b[39;49mgeneration_config,\n\u001b[1;32m    215\u001b[0m         safety_settings\u001b[39m=\u001b[39;49msafety_settings,\n\u001b[1;32m    216\u001b[0m         tools\u001b[39m=\u001b[39;49mtools,\n\u001b[1;32m    217\u001b[0m     )\n\u001b[1;32m    218\u001b[0m     \u001b[39mif\u001b[39;00m \u001b[39mself\u001b[39m\u001b[39m.\u001b[39m_client \u001b[39mis\u001b[39;00m \u001b[39mNone\u001b[39;00m:\n\u001b[1;32m    219\u001b[0m         \u001b[39mself\u001b[39m\u001b[39m.\u001b[39m_client \u001b[39m=\u001b[39m client\u001b[39m.\u001b[39mget_default_generative_client()\n",
      "File \u001b[0;32m~/project/telegram-bot-api/.venv/lib/python3.11/site-packages/google/generativeai/generative_models.py:121\u001b[0m, in \u001b[0;36mGenerativeModel._prepare_request\u001b[0;34m(self, contents, generation_config, safety_settings, tools)\u001b[0m\n\u001b[1;32m    118\u001b[0m \u001b[39mif\u001b[39;00m tools_lib \u001b[39mis\u001b[39;00m \u001b[39mnot\u001b[39;00m \u001b[39mNone\u001b[39;00m:\n\u001b[1;32m    119\u001b[0m     tools_lib \u001b[39m=\u001b[39m tools_lib\u001b[39m.\u001b[39mto_proto()\n\u001b[0;32m--> 121\u001b[0m contents \u001b[39m=\u001b[39m content_types\u001b[39m.\u001b[39;49mto_contents(contents)\n\u001b[1;32m    123\u001b[0m generation_config \u001b[39m=\u001b[39m generation_types\u001b[39m.\u001b[39mto_generation_config_dict(generation_config)\n\u001b[1;32m    124\u001b[0m merged_gc \u001b[39m=\u001b[39m \u001b[39mself\u001b[39m\u001b[39m.\u001b[39m_generation_config\u001b[39m.\u001b[39mcopy()\n",
      "File \u001b[0;32m~/project/telegram-bot-api/.venv/lib/python3.11/site-packages/google/generativeai/types/content_types.py:250\u001b[0m, in \u001b[0;36mto_contents\u001b[0;34m(contents)\u001b[0m\n\u001b[1;32m    245\u001b[0m     \u001b[39mexcept\u001b[39;00m \u001b[39mTypeError\u001b[39;00m:\n\u001b[1;32m    246\u001b[0m         \u001b[39m# If you get a TypeError here it's probably because that was a list\u001b[39;00m\n\u001b[1;32m    247\u001b[0m         \u001b[39m# of parts, not a list of contents, so fall back to `to_content`.\u001b[39;00m\n\u001b[1;32m    248\u001b[0m         \u001b[39mpass\u001b[39;00m\n\u001b[0;32m--> 250\u001b[0m contents \u001b[39m=\u001b[39m [to_content(contents)]\n\u001b[1;32m    251\u001b[0m \u001b[39mreturn\u001b[39;00m contents\n",
      "File \u001b[0;32m~/project/telegram-bot-api/.venv/lib/python3.11/site-packages/google/generativeai/types/content_types.py:213\u001b[0m, in \u001b[0;36mto_content\u001b[0;34m(content)\u001b[0m\n\u001b[1;32m    211\u001b[0m     \u001b[39mreturn\u001b[39;00m content\n\u001b[1;32m    212\u001b[0m \u001b[39melif\u001b[39;00m \u001b[39misinstance\u001b[39m(content, Iterable) \u001b[39mand\u001b[39;00m \u001b[39mnot\u001b[39;00m \u001b[39misinstance\u001b[39m(content, \u001b[39mstr\u001b[39m):\n\u001b[0;32m--> 213\u001b[0m     \u001b[39mreturn\u001b[39;00m glm\u001b[39m.\u001b[39mContent(parts\u001b[39m=\u001b[39m[to_part(part) \u001b[39mfor\u001b[39;49;00m part \u001b[39min\u001b[39;49;00m content])\n\u001b[1;32m    214\u001b[0m \u001b[39melse\u001b[39;00m:\n\u001b[1;32m    215\u001b[0m     \u001b[39m# Maybe this is a Part?\u001b[39;00m\n\u001b[1;32m    216\u001b[0m     \u001b[39mreturn\u001b[39;00m glm\u001b[39m.\u001b[39mContent(parts\u001b[39m=\u001b[39m[to_part(content)])\n",
      "File \u001b[0;32m~/project/telegram-bot-api/.venv/lib/python3.11/site-packages/google/generativeai/types/content_types.py:213\u001b[0m, in \u001b[0;36m<listcomp>\u001b[0;34m(.0)\u001b[0m\n\u001b[1;32m    211\u001b[0m     \u001b[39mreturn\u001b[39;00m content\n\u001b[1;32m    212\u001b[0m \u001b[39melif\u001b[39;00m \u001b[39misinstance\u001b[39m(content, Iterable) \u001b[39mand\u001b[39;00m \u001b[39mnot\u001b[39;00m \u001b[39misinstance\u001b[39m(content, \u001b[39mstr\u001b[39m):\n\u001b[0;32m--> 213\u001b[0m     \u001b[39mreturn\u001b[39;00m glm\u001b[39m.\u001b[39mContent(parts\u001b[39m=\u001b[39m[to_part(part) \u001b[39mfor\u001b[39;00m part \u001b[39min\u001b[39;00m content])\n\u001b[1;32m    214\u001b[0m \u001b[39melse\u001b[39;00m:\n\u001b[1;32m    215\u001b[0m     \u001b[39m# Maybe this is a Part?\u001b[39;00m\n\u001b[1;32m    216\u001b[0m     \u001b[39mreturn\u001b[39;00m glm\u001b[39m.\u001b[39mContent(parts\u001b[39m=\u001b[39m[to_part(content)])\n",
      "File \u001b[0;32m~/project/telegram-bot-api/.venv/lib/python3.11/site-packages/google/generativeai/types/content_types.py:183\u001b[0m, in \u001b[0;36mto_part\u001b[0;34m(part)\u001b[0m\n\u001b[1;32m    180\u001b[0m     \u001b[39mreturn\u001b[39;00m glm\u001b[39m.\u001b[39mPart(text\u001b[39m=\u001b[39mpart)\n\u001b[1;32m    181\u001b[0m \u001b[39melse\u001b[39;00m:\n\u001b[1;32m    182\u001b[0m     \u001b[39m# Maybe it can be turned into a blob?\u001b[39;00m\n\u001b[0;32m--> 183\u001b[0m     \u001b[39mreturn\u001b[39;00m glm\u001b[39m.\u001b[39mPart(inline_data\u001b[39m=\u001b[39mto_blob(part))\n",
      "File \u001b[0;32m~/project/telegram-bot-api/.venv/lib/python3.11/site-packages/google/generativeai/types/content_types.py:152\u001b[0m, in \u001b[0;36mto_blob\u001b[0;34m(blob)\u001b[0m\n\u001b[1;32m    148\u001b[0m \u001b[39mif\u001b[39;00m \u001b[39misinstance\u001b[39m(blob, Mapping):\n\u001b[1;32m    149\u001b[0m     \u001b[39mraise\u001b[39;00m \u001b[39mKeyError\u001b[39;00m(\n\u001b[1;32m    150\u001b[0m         \u001b[39m\"\u001b[39m\u001b[39mCould not recognize the intended type of the `dict`\u001b[39m\u001b[39m\\n\u001b[39;00m\u001b[39m\"\u001b[39m \u001b[39m\"\u001b[39m\u001b[39mA content should have \u001b[39m\u001b[39m\"\u001b[39m\n\u001b[1;32m    151\u001b[0m     )\n\u001b[0;32m--> 152\u001b[0m \u001b[39mraise\u001b[39;00m \u001b[39mTypeError\u001b[39;00m(\n\u001b[1;32m    153\u001b[0m     \u001b[39m\"\u001b[39m\u001b[39mCould not create `Blob`, expected `Blob`, `dict` or an `Image` type\u001b[39m\u001b[39m\"\u001b[39m\n\u001b[1;32m    154\u001b[0m     \u001b[39m\"\u001b[39m\u001b[39m(`PIL.Image.Image` or `IPython.display.Image`).\u001b[39m\u001b[39m\\n\u001b[39;00m\u001b[39m\"\u001b[39m\n\u001b[1;32m    155\u001b[0m     \u001b[39mf\u001b[39m\u001b[39m\"\u001b[39m\u001b[39mGot a: \u001b[39m\u001b[39m{\u001b[39;00m\u001b[39mtype\u001b[39m(blob)\u001b[39m}\u001b[39;00m\u001b[39m\\n\u001b[39;00m\u001b[39m\"\u001b[39m\n\u001b[1;32m    156\u001b[0m     \u001b[39mf\u001b[39m\u001b[39m\"\u001b[39m\u001b[39mValue: \u001b[39m\u001b[39m{\u001b[39;00mblob\u001b[39m}\u001b[39;00m\u001b[39m\"\u001b[39m\n\u001b[1;32m    157\u001b[0m )\n",
      "\u001b[0;31mTypeError\u001b[0m: Could not create `Blob`, expected `Blob`, `dict` or an `Image` type(`PIL.Image.Image` or `IPython.display.Image`).\nGot a: <class 'NoneType'>\nValue: None"
     ]
    }
   ],
   "source": [
    "response = model_text.generate_content([\"wat in this image, dont lie if you cant see image\",None])\n",
    "print(response.text)"
   ]
  },
  {
   "cell_type": "code",
   "execution_count": 21,
   "metadata": {},
   "outputs": [
    {
     "ename": "ModuleNotFoundError",
     "evalue": "No module named 'src'",
     "output_type": "error",
     "traceback": [
      "\u001b[0;31m---------------------------------------------------------------------------\u001b[0m",
      "\u001b[0;31mModuleNotFoundError\u001b[0m                       Traceback (most recent call last)",
      "Cell \u001b[0;32mIn[21], line 1\u001b[0m\n\u001b[0;32m----> 1\u001b[0m \u001b[39mfrom\u001b[39;00m \u001b[39msrc\u001b[39;00m \u001b[39mimport\u001b[39;00m neo_vision\n",
      "\u001b[0;31mModuleNotFoundError\u001b[0m: No module named 'src'"
     ]
    }
   ],
   "source": [
    "from src import neo_vision"
   ]
  }
 ],
 "metadata": {
  "kernelspec": {
   "display_name": ".venv",
   "language": "python",
   "name": "python3"
  },
  "language_info": {
   "codemirror_mode": {
    "name": "ipython",
    "version": 3
   },
   "file_extension": ".py",
   "mimetype": "text/x-python",
   "name": "python",
   "nbconvert_exporter": "python",
   "pygments_lexer": "ipython3",
   "version": "3.11.8"
  },
  "orig_nbformat": 4
 },
 "nbformat": 4,
 "nbformat_minor": 2
}
